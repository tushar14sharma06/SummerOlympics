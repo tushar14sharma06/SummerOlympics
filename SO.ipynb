{
  "nbformat": 4,
  "nbformat_minor": 0,
  "metadata": {
    "colab": {
      "name": "Summer_Olympics.ipynb",
      "provenance": [],
      "collapsed_sections": []
    },
    "kernelspec": {
      "name": "python3",
      "display_name": "Python 3"
    },
    "language_info": {
      "name": "python"
    }
  },
  "cells": [
    {
      "cell_type": "markdown",
      "metadata": {
        "id": "QorIHcXeEeXD"
      },
      "source": [
        "Olympics"
      ]
    },
    {
      "cell_type": "code",
      "metadata": {
        "colab": {
          "base_uri": "https://localhost:8080/",
          "height": 417
        },
        "id": "O-8rnKGEEcL2",
        "outputId": "e609259a-8748-42ed-a30f-187ef1b4c6f3"
      },
      "source": [
        "import pandas as pd\n",
        "df = pd.read_csv('summer.csv')\n",
        "df"
      ],
      "execution_count": 3,
      "outputs": [
        {
          "output_type": "execute_result",
          "data": {
            "text/html": [
              "<div>\n",
              "<style scoped>\n",
              "    .dataframe tbody tr th:only-of-type {\n",
              "        vertical-align: middle;\n",
              "    }\n",
              "\n",
              "    .dataframe tbody tr th {\n",
              "        vertical-align: top;\n",
              "    }\n",
              "\n",
              "    .dataframe thead th {\n",
              "        text-align: right;\n",
              "    }\n",
              "</style>\n",
              "<table border=\"1\" class=\"dataframe\">\n",
              "  <thead>\n",
              "    <tr style=\"text-align: right;\">\n",
              "      <th></th>\n",
              "      <th>Year</th>\n",
              "      <th>City</th>\n",
              "      <th>Sport</th>\n",
              "      <th>Discipline</th>\n",
              "      <th>Athlete</th>\n",
              "      <th>Country</th>\n",
              "      <th>Gender</th>\n",
              "      <th>Event</th>\n",
              "      <th>Medal</th>\n",
              "    </tr>\n",
              "  </thead>\n",
              "  <tbody>\n",
              "    <tr>\n",
              "      <th>0</th>\n",
              "      <td>1896</td>\n",
              "      <td>Athens</td>\n",
              "      <td>Aquatics</td>\n",
              "      <td>Swimming</td>\n",
              "      <td>HAJOS, Alfred</td>\n",
              "      <td>HUN</td>\n",
              "      <td>Men</td>\n",
              "      <td>100M Freestyle</td>\n",
              "      <td>Gold</td>\n",
              "    </tr>\n",
              "    <tr>\n",
              "      <th>1</th>\n",
              "      <td>1896</td>\n",
              "      <td>Athens</td>\n",
              "      <td>Aquatics</td>\n",
              "      <td>Swimming</td>\n",
              "      <td>HERSCHMANN, Otto</td>\n",
              "      <td>AUT</td>\n",
              "      <td>Men</td>\n",
              "      <td>100M Freestyle</td>\n",
              "      <td>Silver</td>\n",
              "    </tr>\n",
              "    <tr>\n",
              "      <th>2</th>\n",
              "      <td>1896</td>\n",
              "      <td>Athens</td>\n",
              "      <td>Aquatics</td>\n",
              "      <td>Swimming</td>\n",
              "      <td>DRIVAS, Dimitrios</td>\n",
              "      <td>GRE</td>\n",
              "      <td>Men</td>\n",
              "      <td>100M Freestyle For Sailors</td>\n",
              "      <td>Bronze</td>\n",
              "    </tr>\n",
              "    <tr>\n",
              "      <th>3</th>\n",
              "      <td>1896</td>\n",
              "      <td>Athens</td>\n",
              "      <td>Aquatics</td>\n",
              "      <td>Swimming</td>\n",
              "      <td>MALOKINIS, Ioannis</td>\n",
              "      <td>GRE</td>\n",
              "      <td>Men</td>\n",
              "      <td>100M Freestyle For Sailors</td>\n",
              "      <td>Gold</td>\n",
              "    </tr>\n",
              "    <tr>\n",
              "      <th>4</th>\n",
              "      <td>1896</td>\n",
              "      <td>Athens</td>\n",
              "      <td>Aquatics</td>\n",
              "      <td>Swimming</td>\n",
              "      <td>CHASAPIS, Spiridon</td>\n",
              "      <td>GRE</td>\n",
              "      <td>Men</td>\n",
              "      <td>100M Freestyle For Sailors</td>\n",
              "      <td>Silver</td>\n",
              "    </tr>\n",
              "    <tr>\n",
              "      <th>...</th>\n",
              "      <td>...</td>\n",
              "      <td>...</td>\n",
              "      <td>...</td>\n",
              "      <td>...</td>\n",
              "      <td>...</td>\n",
              "      <td>...</td>\n",
              "      <td>...</td>\n",
              "      <td>...</td>\n",
              "      <td>...</td>\n",
              "    </tr>\n",
              "    <tr>\n",
              "      <th>12487</th>\n",
              "      <td>1968</td>\n",
              "      <td>Mexico</td>\n",
              "      <td>Rowing</td>\n",
              "      <td>Rowing</td>\n",
              "      <td>RÜHLE, Frank</td>\n",
              "      <td>GDR</td>\n",
              "      <td>Men</td>\n",
              "      <td>Four Without Coxswain (4-)</td>\n",
              "      <td>Gold</td>\n",
              "    </tr>\n",
              "    <tr>\n",
              "      <th>12488</th>\n",
              "      <td>1968</td>\n",
              "      <td>Mexico</td>\n",
              "      <td>Rowing</td>\n",
              "      <td>Rowing</td>\n",
              "      <td>SCHUBERT, Dieter</td>\n",
              "      <td>GDR</td>\n",
              "      <td>Men</td>\n",
              "      <td>Four Without Coxswain (4-)</td>\n",
              "      <td>Gold</td>\n",
              "    </tr>\n",
              "    <tr>\n",
              "      <th>12489</th>\n",
              "      <td>1968</td>\n",
              "      <td>Mexico</td>\n",
              "      <td>Rowing</td>\n",
              "      <td>Rowing</td>\n",
              "      <td>CSERMELY, Jozsef</td>\n",
              "      <td>HUN</td>\n",
              "      <td>Men</td>\n",
              "      <td>Four Without Coxswain (4-)</td>\n",
              "      <td>Silver</td>\n",
              "    </tr>\n",
              "    <tr>\n",
              "      <th>12490</th>\n",
              "      <td>1968</td>\n",
              "      <td>Mexico</td>\n",
              "      <td>Rowing</td>\n",
              "      <td>Rowing</td>\n",
              "      <td>MELIOS, Zoltan</td>\n",
              "      <td>HUN</td>\n",
              "      <td>Men</td>\n",
              "      <td>Four Without Coxswain (4-)</td>\n",
              "      <td>Silver</td>\n",
              "    </tr>\n",
              "    <tr>\n",
              "      <th>12491</th>\n",
              "      <td>1968</td>\n",
              "      <td>Mexico</td>\n",
              "      <td>Rowing</td>\n",
              "      <td>Rowing</td>\n",
              "      <td>MELIS, Antal</td>\n",
              "      <td>HUN</td>\n",
              "      <td>Men</td>\n",
              "      <td>Four Without Coxsw</td>\n",
              "      <td>NaN</td>\n",
              "    </tr>\n",
              "  </tbody>\n",
              "</table>\n",
              "<p>12492 rows × 9 columns</p>\n",
              "</div>"
            ],
            "text/plain": [
              "       Year    City     Sport  ... Gender                       Event   Medal\n",
              "0      1896  Athens  Aquatics  ...    Men              100M Freestyle    Gold\n",
              "1      1896  Athens  Aquatics  ...    Men              100M Freestyle  Silver\n",
              "2      1896  Athens  Aquatics  ...    Men  100M Freestyle For Sailors  Bronze\n",
              "3      1896  Athens  Aquatics  ...    Men  100M Freestyle For Sailors    Gold\n",
              "4      1896  Athens  Aquatics  ...    Men  100M Freestyle For Sailors  Silver\n",
              "...     ...     ...       ...  ...    ...                         ...     ...\n",
              "12487  1968  Mexico    Rowing  ...    Men  Four Without Coxswain (4-)    Gold\n",
              "12488  1968  Mexico    Rowing  ...    Men  Four Without Coxswain (4-)    Gold\n",
              "12489  1968  Mexico    Rowing  ...    Men  Four Without Coxswain (4-)  Silver\n",
              "12490  1968  Mexico    Rowing  ...    Men  Four Without Coxswain (4-)  Silver\n",
              "12491  1968  Mexico    Rowing  ...    Men          Four Without Coxsw     NaN\n",
              "\n",
              "[12492 rows x 9 columns]"
            ]
          },
          "metadata": {},
          "execution_count": 3
        }
      ]
    },
    {
      "cell_type": "markdown",
      "metadata": {
        "id": "QbzKCoqsIW3k"
      },
      "source": [
        "1. In how many cities Summer Olympics is held so far?"
      ]
    },
    {
      "cell_type": "code",
      "metadata": {
        "colab": {
          "base_uri": "https://localhost:8080/"
        },
        "id": "c9bqiSWjId5v",
        "outputId": "cd7bbc1b-7f49-4cb8-c56f-9a2952453904"
      },
      "source": [
        "len(df['City'].unique())"
      ],
      "execution_count": null,
      "outputs": [
        {
          "output_type": "execute_result",
          "data": {
            "text/plain": [
              "22"
            ]
          },
          "metadata": {},
          "execution_count": 6
        }
      ]
    },
    {
      "cell_type": "markdown",
      "metadata": {
        "id": "LU0NpC6KJfOm"
      },
      "source": [
        "2. Which sport is having most number of Gold Medals so far? (Top 5)"
      ]
    },
    {
      "cell_type": "code",
      "metadata": {
        "id": "YEek6dGLJnVm",
        "colab": {
          "base_uri": "https://localhost:8080/",
          "height": 399
        },
        "outputId": "87359084-61fa-43ac-d8e7-060e176de44f"
      },
      "source": [
        "data=[]\n",
        "x=df[df['Medal']==\"Gold\"]\n",
        "for sport in x[\"Sport\"].unique():\n",
        "  data.append([sport , len(x[x['Sport']  == sport])])\n",
        "graph=pd.DataFrame(data,columns = ['Sport','Gold Medal']).sort_values(by='Gold Medal', ascending=False).head().plot(x = 'Sport', y = 'Gold Medal', kind = 'bar', figsize = (5,5))\n",
        "print(graph)"
      ],
      "execution_count": 4,
      "outputs": [
        {
          "output_type": "stream",
          "name": "stdout",
          "text": [
            "AxesSubplot(0.125,0.125;0.775x0.755)\n"
          ]
        },
        {
          "output_type": "display_data",
          "data": {
            "image/png": "[encoded data removed]",
            "text/plain": [
              "<Figure size 360x360 with 1 Axes>"
            ]
          },
          "metadata": {
            "needs_background": "light"
          }
        }
      ]
    },
    {
      "cell_type": "markdown",
      "metadata": {
        "id": "FlH6nQj8SzCJ"
      },
      "source": [
        "3. Which sport is having most number of medals so far? (Top 5)"
      ]
    },
    {
      "cell_type": "code",
      "metadata": {
        "id": "-e6yt05QO5nb",
        "colab": {
          "base_uri": "https://localhost:8080/",
          "height": 399
        },
        "outputId": "f04a98db-a88e-41f0-a242-063269107661"
      },
      "source": [
        "data=[]\n",
        "for sport in df[\"Sport\"].unique():\n",
        "  data.append([sport , len(df[df['Sport']  == sport])])\n",
        "graph=pd.DataFrame(data,columns = ['Sport','Medal']).sort_values(by='Medal', ascending=False).head().plot(x = 'Sport', y = 'Medal', kind = 'bar', figsize = (5,5))\n",
        "print(graph)"
      ],
      "execution_count": 5,
      "outputs": [
        {
          "output_type": "stream",
          "name": "stdout",
          "text": [
            "AxesSubplot(0.125,0.125;0.775x0.755)\n"
          ]
        },
        {
          "output_type": "display_data",
          "data": {
            "image/png": "[encoded data removed]",
            "text/plain": [
              "<Figure size 360x360 with 1 Axes>"
            ]
          },
          "metadata": {
            "needs_background": "light"
          }
        }
      ]
    },
    {
      "cell_type": "markdown",
      "metadata": {
        "id": "9h7c9prKT-1s"
      },
      "source": [
        "4. Which player has won most number of medals? (Top 5)"
      ]
    },
    {
      "cell_type": "code",
      "metadata": {
        "colab": {
          "base_uri": "https://localhost:8080/",
          "height": 458
        },
        "id": "k29ch8gnTaly",
        "outputId": "a86d06dd-c522-4d53-f1d9-cb4cb80fd7fb"
      },
      "source": [
        "data=[]\n",
        "for player in df[\"Athlete\"].unique():\n",
        "  data.append([player , len(df[df['Athlete']  == player])])\n",
        "graph=pd.DataFrame(data,columns = ['Athlete','Medal']).sort_values(by='Medal', ascending=False).head().plot(x = 'Athlete', y = 'Medal', kind = 'bar', figsize = (5,5))\n",
        "print(graph)"
      ],
      "execution_count": 6,
      "outputs": [
        {
          "output_type": "stream",
          "name": "stdout",
          "text": [
            "AxesSubplot(0.125,0.125;0.775x0.755)\n"
          ]
        },
        {
          "output_type": "display_data",
          "data": {
            "image/png": "[encoded data removed]",
            "text/plain": [
              "<Figure size 360x360 with 1 Axes>"
            ]
          },
          "metadata": {
            "needs_background": "light"
          }
        }
      ]
    },
    {
      "cell_type": "markdown",
      "metadata": {
        "id": "jy4mW81AUlas"
      },
      "source": [
        "5. Which player has won most number Gold Medals of medals? (Top 5)"
      ]
    },
    {
      "cell_type": "code",
      "metadata": {
        "colab": {
          "base_uri": "https://localhost:8080/",
          "height": 479
        },
        "id": "mLeqzot0UoNb",
        "outputId": "4e28cd0a-9aaf-4b81-8946-15acb90d80b3"
      },
      "source": [
        "data=[]\n",
        "x=df[df['Medal']=='Gold']\n",
        "for player in x[\"Athlete\"].unique():\n",
        "  data.append([player , len(x[x['Athlete']  == player])])\n",
        "graph=pd.DataFrame(data,columns = ['Athlete','Medal']).sort_values(by='Medal', ascending=False).head().plot(x = 'Athlete', y = 'Medal', kind = 'bar', figsize = (5,5))\n",
        "print(graph)"
      ],
      "execution_count": 7,
      "outputs": [
        {
          "output_type": "stream",
          "name": "stdout",
          "text": [
            "AxesSubplot(0.125,0.125;0.775x0.755)\n"
          ]
        },
        {
          "output_type": "display_data",
          "data": {
            "image/png": "[encoded data removed]",
            "text/plain": [
              "<Figure size 360x360 with 1 Axes>"
            ]
          },
          "metadata": {
            "needs_background": "light"
          }
        }
      ]
    },
    {
      "cell_type": "markdown",
      "metadata": {
        "id": "wJqMc0zacHGC"
      },
      "source": [
        "6. In which year India won first Gold Medal in Summer Olympics?"
      ]
    },
    {
      "cell_type": "code",
      "metadata": {
        "colab": {
          "base_uri": "https://localhost:8080/"
        },
        "id": "0851XfiUcKqF",
        "outputId": "8ebb84fb-af92-4baf-cd84-147e2811959c"
      },
      "source": [
        "x=df[df['Country']=='IND']\n",
        "y=x[x['Medal']=='Gold']\n",
        "y=(y.sort_values('Year',axis=0))\n",
        "y=list(y['Year'].unique())\n",
        "print(y[0])"
      ],
      "execution_count": null,
      "outputs": [
        {
          "output_type": "stream",
          "name": "stdout",
          "text": [
            "1928\n"
          ]
        }
      ]
    },
    {
      "cell_type": "markdown",
      "metadata": {
        "id": "6wOffNnpVbUA"
      },
      "source": [
        "7. Which event is most popular in terms on number of players? (Top 5)"
      ]
    },
    {
      "cell_type": "code",
      "metadata": {
        "colab": {
          "base_uri": "https://localhost:8080/",
          "height": 468
        },
        "id": "jQM1j5oYV9y_",
        "outputId": "fd9ed7c3-c72f-40be-8c35-a5127e129ed2"
      },
      "source": [
        "data=[]\n",
        "for event in df[\"Event\"].unique():\n",
        "  data.append([event , len(df[df['Event']  == event])])\n",
        "graph=pd.DataFrame(data,columns = ['Event','athlete']).sort_values(by='athlete', ascending=False).head().plot(x = 'Event', y = 'athlete', kind = 'bar', figsize = (5,5))\n",
        "print(graph)"
      ],
      "execution_count": 8,
      "outputs": [
        {
          "output_type": "stream",
          "name": "stdout",
          "text": [
            "AxesSubplot(0.125,0.125;0.775x0.755)\n"
          ]
        },
        {
          "output_type": "display_data",
          "data": {
            "image/png": "[encoded data removed]",
            "text/plain": [
              "<Figure size 360x360 with 1 Axes>"
            ]
          },
          "metadata": {
            "needs_background": "light"
          }
        }
      ]
    },
    {
      "cell_type": "markdown",
      "metadata": {
        "id": "TBazLfGHXTvq"
      },
      "source": [
        "\n",
        "8. Which sport is having most female Gold Medalists? (Top 5)"
      ]
    },
    {
      "cell_type": "code",
      "metadata": {
        "colab": {
          "base_uri": "https://localhost:8080/",
          "height": 399
        },
        "id": "tmFkrHgKXVCk",
        "outputId": "3be7787f-0edd-47ef-b4a4-246b59ae5360"
      },
      "source": [
        "data=[]\n",
        "x=df[df['Medal']==\"Gold\"]\n",
        "y=x[x['Gender']=='Women']\n",
        "for sport in y[\"Sport\"].unique():\n",
        "  data.append([sport , len(y[y['Sport']  == sport])])\n",
        "graph=pd.DataFrame(data,columns = ['Sport','Gold Medal']).sort_values(by='Gold Medal', ascending=False).head().plot(x = 'Sport', y = 'Gold Medal', kind = 'bar', figsize = (5,5))\n",
        "print(graph)"
      ],
      "execution_count": 10,
      "outputs": [
        {
          "output_type": "stream",
          "name": "stdout",
          "text": [
            "AxesSubplot(0.125,0.125;0.775x0.755)\n"
          ]
        },
        {
          "output_type": "display_data",
          "data": {
            "image/png": "[encoded data removed]",
            "text/plain": [
              "<Figure size 360x360 with 1 Axes>"
            ]
          },
          "metadata": {
            "needs_background": "light"
          }
        }
      ]
    }
  ]
}